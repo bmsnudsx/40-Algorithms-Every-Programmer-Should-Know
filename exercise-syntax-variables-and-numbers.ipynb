{
 "cells": [
  {
   "cell_type": "markdown",
   "id": "78180ecd",
   "metadata": {
    "papermill": {
     "duration": 0.006649,
     "end_time": "2023-01-29T16:19:45.411955",
     "exception": false,
     "start_time": "2023-01-29T16:19:45.405306",
     "status": "completed"
    },
    "tags": []
   },
   "source": [
    "**This notebook is an exercise in the [Python](https://www.kaggle.com/learn/python) course.  You can reference the tutorial at [this link](https://www.kaggle.com/colinmorris/hello-python).**\n",
    "\n",
    "---\n"
   ]
  },
  {
   "cell_type": "markdown",
   "id": "3f0f97fa",
   "metadata": {
    "papermill": {
     "duration": 0.005625,
     "end_time": "2023-01-29T16:19:45.423457",
     "exception": false,
     "start_time": "2023-01-29T16:19:45.417832",
     "status": "completed"
    },
    "tags": []
   },
   "source": [
    "Welcome to your first set of Python coding problems.  If this is your first time using Kaggle Notebooks, welcome! \n",
    "\n",
    "Notebooks are composed of blocks (called \"cells\") of text and code. Each of these is editable, though you'll mainly be editing the code cells to answer some questions.\n",
    "\n",
    "To get started, try running the code cell below (by pressing the ► button, or clicking on the cell and pressing ctrl+enter on your keyboard)."
   ]
  },
  {
   "cell_type": "code",
   "execution_count": 1,
   "id": "31fafe87",
   "metadata": {
    "execution": {
     "iopub.execute_input": "2023-01-29T16:19:45.438034Z",
     "iopub.status.busy": "2023-01-29T16:19:45.437603Z",
     "iopub.status.idle": "2023-01-29T16:19:45.448866Z",
     "shell.execute_reply": "2023-01-29T16:19:45.447426Z"
    },
    "papermill": {
     "duration": 0.02187,
     "end_time": "2023-01-29T16:19:45.451612",
     "exception": false,
     "start_time": "2023-01-29T16:19:45.429742",
     "status": "completed"
    },
    "tags": []
   },
   "outputs": [
    {
     "name": "stdout",
     "output_type": "stream",
     "text": [
      "You've successfully run some Python code\n",
      "Congratulations!\n"
     ]
    }
   ],
   "source": [
    "print(\"You've successfully run some Python code\")\n",
    "print(\"Congratulations!\")"
   ]
  },
  {
   "cell_type": "markdown",
   "id": "f2f85d4e",
   "metadata": {
    "papermill": {
     "duration": 0.005751,
     "end_time": "2023-01-29T16:19:45.463953",
     "exception": false,
     "start_time": "2023-01-29T16:19:45.458202",
     "status": "completed"
    },
    "tags": []
   },
   "source": [
    "Try adding another line of code in the cell above and re-running it. \n",
    "\n",
    "Now let's get a little fancier:  Add a new code cell by clicking on an existing code cell, hitting the escape key, and then hitting the `a` or `b` key.  The `a` key will add a cell above the current cell, and `b` adds a cell below.\n",
    "\n",
    "Great! Now you know how to use Notebooks.\n",
    "\n",
    "Each hands-on exercise starts by setting up our feedback and code checking mechanism. Run the code cell below to do that. Then you'll be ready to move on to question 0."
   ]
  },
  {
   "cell_type": "code",
   "execution_count": 2,
   "id": "e9474299",
   "metadata": {
    "_kg_hide-input": true,
    "_kg_hide-output": true,
    "execution": {
     "iopub.execute_input": "2023-01-29T16:19:45.477999Z",
     "iopub.status.busy": "2023-01-29T16:19:45.477655Z",
     "iopub.status.idle": "2023-01-29T16:19:45.528189Z",
     "shell.execute_reply": "2023-01-29T16:19:45.526425Z"
    },
    "papermill": {
     "duration": 0.061616,
     "end_time": "2023-01-29T16:19:45.531686",
     "exception": false,
     "start_time": "2023-01-29T16:19:45.470070",
     "status": "completed"
    },
    "tags": []
   },
   "outputs": [
    {
     "name": "stdout",
     "output_type": "stream",
     "text": [
      "Setup complete! You're ready to start question 0.\n"
     ]
    }
   ],
   "source": [
    "from learntools.core import binder; binder.bind(globals())\n",
    "from learntools.python.ex1 import *\n",
    "print(\"Setup complete! You're ready to start question 0.\")"
   ]
  },
  {
   "cell_type": "markdown",
   "id": "ec84ab00",
   "metadata": {
    "papermill": {
     "duration": 0.006673,
     "end_time": "2023-01-29T16:19:45.544993",
     "exception": false,
     "start_time": "2023-01-29T16:19:45.538320",
     "status": "completed"
    },
    "tags": []
   },
   "source": [
    "# 0.\n",
    "\n",
    "*This is a silly question intended as an introduction to the format we use for hands-on exercises throughout all Kaggle courses.*\n",
    "\n",
    "**What is your favorite color? **\n",
    "\n",
    "To complete this question, create a variable called `color` in the cell below with an appropriate value. The function call `q0.check()` (which we've already provided in the cell below) will check your answer."
   ]
  },
  {
   "cell_type": "code",
   "execution_count": 3,
   "id": "96feb4a2",
   "metadata": {
    "execution": {
     "iopub.execute_input": "2023-01-29T16:19:45.559441Z",
     "iopub.status.busy": "2023-01-29T16:19:45.559027Z",
     "iopub.status.idle": "2023-01-29T16:19:45.573590Z",
     "shell.execute_reply": "2023-01-29T16:19:45.571522Z"
    },
    "papermill": {
     "duration": 0.024737,
     "end_time": "2023-01-29T16:19:45.576196",
     "exception": false,
     "start_time": "2023-01-29T16:19:45.551459",
     "status": "completed"
    },
    "tags": []
   },
   "outputs": [
    {
     "data": {
      "application/javascript": [
       "parent.postMessage({\"jupyterEvent\": \"custom.exercise_interaction\", \"data\": {\"outcomeType\": 1, \"valueTowardsCompletion\": 0.25, \"interactionType\": 1, \"questionType\": 2, \"questionId\": \"0_ExerciseFormatTutorial\", \"learnToolsVersion\": \"0.3.4\", \"failureMessage\": \"\", \"exceptionClass\": \"\", \"trace\": \"\"}}, \"*\")"
      ],
      "text/plain": [
       "<IPython.core.display.Javascript object>"
      ]
     },
     "metadata": {},
     "output_type": "display_data"
    },
    {
     "data": {
      "text/markdown": [
       "<span style=\"color:#33cc33\">Correct:</span> What?! You got it right without needing a hint or anything? Drats. Well hey, you should still continue to the next step to get some practice asking for a hint and checking solutions. (Even though you obviously don't need any help here.)"
      ],
      "text/plain": [
       "Correct: What?! You got it right without needing a hint or anything? Drats. Well hey, you should still continue to the next step to get some practice asking for a hint and checking solutions. (Even though you obviously don't need any help here.)"
      ]
     },
     "metadata": {},
     "output_type": "display_data"
    }
   ],
   "source": [
    "# create a variable called color with an appropriate value on the line below\n",
    "# (Remember, strings in Python must be enclosed in 'single' or \"double\" quotes)\n",
    "____\n",
    "color = 'blue'\n",
    "# Check your answer\n",
    "q0.check()"
   ]
  },
  {
   "cell_type": "markdown",
   "id": "22c7b0f8",
   "metadata": {
    "papermill": {
     "duration": 0.006474,
     "end_time": "2023-01-29T16:19:45.590533",
     "exception": false,
     "start_time": "2023-01-29T16:19:45.584059",
     "status": "completed"
    },
    "tags": []
   },
   "source": [
    "Didn't get the right answer? How do you not even know your own favorite color?!\n",
    "\n",
    "Delete the `#` in the line below to make one of the lines run. You can choose between getting a hint or the full answer by choosing which line to remove the `#` from. \n",
    "\n",
    "Removing the `#` is called uncommenting, because it changes that line from a \"comment\" which Python doesn't run to code, which Python does run."
   ]
  },
  {
   "cell_type": "code",
   "execution_count": 4,
   "id": "3a799838",
   "metadata": {
    "execution": {
     "iopub.execute_input": "2023-01-29T16:19:45.605829Z",
     "iopub.status.busy": "2023-01-29T16:19:45.605157Z",
     "iopub.status.idle": "2023-01-29T16:19:45.609403Z",
     "shell.execute_reply": "2023-01-29T16:19:45.607977Z"
    },
    "papermill": {
     "duration": 0.014331,
     "end_time": "2023-01-29T16:19:45.611448",
     "exception": false,
     "start_time": "2023-01-29T16:19:45.597117",
     "status": "completed"
    },
    "tags": []
   },
   "outputs": [],
   "source": [
    "#q0.hint()\n",
    "#q0.solution()"
   ]
  },
  {
   "cell_type": "markdown",
   "id": "55a7b795",
   "metadata": {
    "papermill": {
     "duration": 0.007321,
     "end_time": "2023-01-29T16:19:45.625263",
     "exception": false,
     "start_time": "2023-01-29T16:19:45.617942",
     "status": "completed"
    },
    "tags": []
   },
   "source": [
    "The upcoming questions work the same way. The only thing that will change are the question numbers. For the next question, you'll call `q1.check()`, `q1.hint()`, `q1.solution()`, for question 2, you'll call `q2.check()`, and so on."
   ]
  },
  {
   "cell_type": "markdown",
   "id": "f8fa38f4",
   "metadata": {
    "papermill": {
     "duration": 0.006024,
     "end_time": "2023-01-29T16:19:45.637867",
     "exception": false,
     "start_time": "2023-01-29T16:19:45.631843",
     "status": "completed"
    },
    "tags": []
   },
   "source": [
    "<hr/>\n",
    "\n",
    "# 1.\n",
    "\n",
    "Complete the code below. In case it's helpful, here is the table of available arithmetic operations:\n",
    "\n",
    "\n",
    "\n",
    "| Operator     | Name           | Description                                            |\n",
    "|--------------|----------------|--------------------------------------------------------|\n",
    "| ``a + b``    | Addition       | Sum of ``a`` and ``b``                                 |\n",
    "| ``a - b``    | Subtraction    | Difference of ``a`` and ``b``                          |\n",
    "| ``a * b``    | Multiplication | Product of ``a`` and ``b``                             |\n",
    "| ``a / b``    | True division  | Quotient of ``a`` and ``b``                            |\n",
    "| ``a // b``   | Floor division | Quotient of ``a`` and ``b``, removing fractional parts |\n",
    "| ``a % b``    | Modulus        | Integer remainder after division of ``a`` by ``b``     |\n",
    "| ``a ** b``   | Exponentiation | ``a`` raised to the power of ``b``                     |\n",
    "| ``-a``       | Negation       | The negative of ``a``                                  |\n",
    "\n",
    "<span style=\"display:none\"></span>\n"
   ]
  },
  {
   "cell_type": "code",
   "execution_count": 5,
   "id": "ef318b64",
   "metadata": {
    "execution": {
     "iopub.execute_input": "2023-01-29T16:19:45.653219Z",
     "iopub.status.busy": "2023-01-29T16:19:45.652585Z",
     "iopub.status.idle": "2023-01-29T16:19:45.662848Z",
     "shell.execute_reply": "2023-01-29T16:19:45.660850Z"
    },
    "papermill": {
     "duration": 0.02131,
     "end_time": "2023-01-29T16:19:45.665558",
     "exception": false,
     "start_time": "2023-01-29T16:19:45.644248",
     "status": "completed"
    },
    "tags": []
   },
   "outputs": [
    {
     "data": {
      "application/javascript": [
       "parent.postMessage({\"jupyterEvent\": \"custom.exercise_interaction\", \"data\": {\"outcomeType\": 1, \"valueTowardsCompletion\": 0.25, \"interactionType\": 1, \"questionType\": 1, \"questionId\": \"1_CircleArea\", \"learnToolsVersion\": \"0.3.4\", \"failureMessage\": \"\", \"exceptionClass\": \"\", \"trace\": \"\"}}, \"*\")"
      ],
      "text/plain": [
       "<IPython.core.display.Javascript object>"
      ]
     },
     "metadata": {},
     "output_type": "display_data"
    },
    {
     "data": {
      "text/markdown": [
       "<span style=\"color:#33cc33\">Correct</span>"
      ],
      "text/plain": [
       "Correct"
      ]
     },
     "metadata": {},
     "output_type": "display_data"
    }
   ],
   "source": [
    "pi = 3.14159 # approximate\n",
    "diameter = 3\n",
    "\n",
    "# Create a variable called 'radius' equal to half the diameter\n",
    "____\n",
    "radius = diameter / 2\n",
    "# Create a variable called 'area', using the formula for the area of a circle: pi times the radius squared\n",
    "____\n",
    "area = pi * (radius ** 2)\n",
    "\n",
    "# Check your answer/\n",
    "q1.check()"
   ]
  },
  {
   "cell_type": "code",
   "execution_count": 6,
   "id": "74f0c405",
   "metadata": {
    "execution": {
     "iopub.execute_input": "2023-01-29T16:19:45.682207Z",
     "iopub.status.busy": "2023-01-29T16:19:45.681799Z",
     "iopub.status.idle": "2023-01-29T16:19:45.687290Z",
     "shell.execute_reply": "2023-01-29T16:19:45.685815Z"
    },
    "papermill": {
     "duration": 0.017427,
     "end_time": "2023-01-29T16:19:45.690159",
     "exception": false,
     "start_time": "2023-01-29T16:19:45.672732",
     "status": "completed"
    },
    "tags": []
   },
   "outputs": [],
   "source": [
    "# Uncomment and run the lines below if you need help.\n",
    "#q1.hint()\n",
    "#q1.solution()"
   ]
  },
  {
   "cell_type": "markdown",
   "id": "b538e9fd",
   "metadata": {
    "papermill": {
     "duration": 0.006472,
     "end_time": "2023-01-29T16:19:45.703562",
     "exception": false,
     "start_time": "2023-01-29T16:19:45.697090",
     "status": "completed"
    },
    "tags": []
   },
   "source": [
    "<hr/>\n",
    "\n",
    "# 2.\n",
    "\n",
    "Add code to the following cell to swap variables `a` and `b` (so that `a` refers to the object previously referred to by `b` and vice versa)."
   ]
  },
  {
   "cell_type": "code",
   "execution_count": 7,
   "id": "45eef34d",
   "metadata": {
    "execution": {
     "iopub.execute_input": "2023-01-29T16:19:45.719273Z",
     "iopub.status.busy": "2023-01-29T16:19:45.718682Z",
     "iopub.status.idle": "2023-01-29T16:19:45.728307Z",
     "shell.execute_reply": "2023-01-29T16:19:45.726950Z"
    },
    "papermill": {
     "duration": 0.020636,
     "end_time": "2023-01-29T16:19:45.730982",
     "exception": false,
     "start_time": "2023-01-29T16:19:45.710346",
     "status": "completed"
    },
    "tags": []
   },
   "outputs": [
    {
     "data": {
      "application/javascript": [
       "parent.postMessage({\"jupyterEvent\": \"custom.exercise_interaction\", \"data\": {\"outcomeType\": 1, \"valueTowardsCompletion\": 0.25, \"interactionType\": 1, \"questionType\": 2, \"questionId\": \"2_VariableSwap\", \"learnToolsVersion\": \"0.3.4\", \"failureMessage\": \"\", \"exceptionClass\": \"\", \"trace\": \"\"}}, \"*\")"
      ],
      "text/plain": [
       "<IPython.core.display.Javascript object>"
      ]
     },
     "metadata": {},
     "output_type": "display_data"
    },
    {
     "data": {
      "text/markdown": [
       "<span style=\"color:#33cc33\">Correct:</span> \n",
       "\n",
       "The most straightforward solution is to use a third variable to temporarily store one of the old values. e.g.:\n",
       "\n",
       "    tmp = a\n",
       "    a = b\n",
       "    b = tmp\n",
       "\n",
       "If you've read lots of Python code, you might have seen the following trick to swap two variables in one line:\n",
       "\n",
       "    a, b = b, a\n",
       "\n",
       "We'll demystify this bit of Python magic later when we talk about *tuples*."
      ],
      "text/plain": [
       "Correct: \n",
       "\n",
       "The most straightforward solution is to use a third variable to temporarily store one of the old values. e.g.:\n",
       "\n",
       "    tmp = a\n",
       "    a = b\n",
       "    b = tmp\n",
       "\n",
       "If you've read lots of Python code, you might have seen the following trick to swap two variables in one line:\n",
       "\n",
       "    a, b = b, a\n",
       "\n",
       "We'll demystify this bit of Python magic later when we talk about *tuples*."
      ]
     },
     "metadata": {},
     "output_type": "display_data"
    }
   ],
   "source": [
    "########### Setup code - don't touch this part ######################\n",
    "# If you're curious, these are examples of lists. We'll talk about \n",
    "# them in depth a few lessons from now. For now, just know that they're\n",
    "# yet another type of Python object, like int or float.\n",
    "a = [1, 2, 3]\n",
    "b = [3, 2, 1]\n",
    "q2.store_original_ids()\n",
    "######################################################################\n",
    "\n",
    "# Your code goes here. Swap the values to which a and b refer.\n",
    "# If you get stuck, you can always uncomment one or both of the lines in\n",
    "# the next cell for a hint, or to peek at the solution.\n",
    "a,b = b,a\n",
    "\n",
    "######################################################################\n",
    "\n",
    "# Check your answer\n",
    "q2.check()"
   ]
  },
  {
   "cell_type": "code",
   "execution_count": 8,
   "id": "eebb3854",
   "metadata": {
    "execution": {
     "iopub.execute_input": "2023-01-29T16:19:45.746578Z",
     "iopub.status.busy": "2023-01-29T16:19:45.746157Z",
     "iopub.status.idle": "2023-01-29T16:19:45.753958Z",
     "shell.execute_reply": "2023-01-29T16:19:45.753296Z"
    },
    "papermill": {
     "duration": 0.017445,
     "end_time": "2023-01-29T16:19:45.755587",
     "exception": false,
     "start_time": "2023-01-29T16:19:45.738142",
     "status": "completed"
    },
    "tags": []
   },
   "outputs": [
    {
     "data": {
      "application/javascript": [
       "parent.postMessage({\"jupyterEvent\": \"custom.exercise_interaction\", \"data\": {\"interactionType\": 2, \"questionType\": 2, \"questionId\": \"2_VariableSwap\", \"learnToolsVersion\": \"0.3.4\", \"valueTowardsCompletion\": 0.0, \"failureMessage\": \"\", \"exceptionClass\": \"\", \"trace\": \"\", \"outcomeType\": 4}}, \"*\")"
      ],
      "text/plain": [
       "<IPython.core.display.Javascript object>"
      ]
     },
     "metadata": {},
     "output_type": "display_data"
    },
    {
     "data": {
      "text/markdown": [
       "<span style=\"color:#3366cc\">Hint:</span> Try using a third variable."
      ],
      "text/plain": [
       "Hint: Try using a third variable."
      ]
     },
     "metadata": {},
     "output_type": "display_data"
    }
   ],
   "source": [
    "q2.hint()"
   ]
  },
  {
   "cell_type": "code",
   "execution_count": 9,
   "id": "bb32647a",
   "metadata": {
    "execution": {
     "iopub.execute_input": "2023-01-29T16:19:45.774830Z",
     "iopub.status.busy": "2023-01-29T16:19:45.774408Z",
     "iopub.status.idle": "2023-01-29T16:19:45.784883Z",
     "shell.execute_reply": "2023-01-29T16:19:45.783603Z"
    },
    "papermill": {
     "duration": 0.024698,
     "end_time": "2023-01-29T16:19:45.787450",
     "exception": false,
     "start_time": "2023-01-29T16:19:45.762752",
     "status": "completed"
    },
    "tags": []
   },
   "outputs": [
    {
     "data": {
      "application/javascript": [
       "parent.postMessage({\"jupyterEvent\": \"custom.exercise_interaction\", \"data\": {\"interactionType\": 3, \"questionType\": 2, \"questionId\": \"2_VariableSwap\", \"learnToolsVersion\": \"0.3.4\", \"valueTowardsCompletion\": 0.0, \"failureMessage\": \"\", \"exceptionClass\": \"\", \"trace\": \"\", \"outcomeType\": 4}}, \"*\")"
      ],
      "text/plain": [
       "<IPython.core.display.Javascript object>"
      ]
     },
     "metadata": {},
     "output_type": "display_data"
    },
    {
     "data": {
      "text/markdown": [
       "<span style=\"color:#33cc99\">Solution:</span> The most straightforward solution is to use a third variable to temporarily store one of the old values. e.g.:\n",
       "\n",
       "    tmp = a\n",
       "    a = b\n",
       "    b = tmp\n",
       "\n",
       "If you've read lots of Python code, you might have seen the following trick to swap two variables in one line:\n",
       "\n",
       "    a, b = b, a\n",
       "\n",
       "We'll demystify this bit of Python magic later when we talk about *tuples*."
      ],
      "text/plain": [
       "Solution: The most straightforward solution is to use a third variable to temporarily store one of the old values. e.g.:\n",
       "\n",
       "    tmp = a\n",
       "    a = b\n",
       "    b = tmp\n",
       "\n",
       "If you've read lots of Python code, you might have seen the following trick to swap two variables in one line:\n",
       "\n",
       "    a, b = b, a\n",
       "\n",
       "We'll demystify this bit of Python magic later when we talk about *tuples*."
      ]
     },
     "metadata": {},
     "output_type": "display_data"
    }
   ],
   "source": [
    "q2.solution()"
   ]
  },
  {
   "cell_type": "markdown",
   "id": "6e11903b",
   "metadata": {
    "papermill": {
     "duration": 0.006862,
     "end_time": "2023-01-29T16:19:45.801698",
     "exception": false,
     "start_time": "2023-01-29T16:19:45.794836",
     "status": "completed"
    },
    "tags": []
   },
   "source": [
    "<hr/>\n",
    "\n",
    "# 3a.\n",
    "\n",
    "Add parentheses to the following expression so that it evaluates to 1."
   ]
  },
  {
   "cell_type": "code",
   "execution_count": 10,
   "id": "beaf8b88",
   "metadata": {
    "execution": {
     "iopub.execute_input": "2023-01-29T16:19:45.818958Z",
     "iopub.status.busy": "2023-01-29T16:19:45.818588Z",
     "iopub.status.idle": "2023-01-29T16:19:45.826577Z",
     "shell.execute_reply": "2023-01-29T16:19:45.824116Z"
    },
    "papermill": {
     "duration": 0.021172,
     "end_time": "2023-01-29T16:19:45.830226",
     "exception": false,
     "start_time": "2023-01-29T16:19:45.809054",
     "status": "completed"
    },
    "tags": []
   },
   "outputs": [
    {
     "data": {
      "text/plain": [
       "1"
      ]
     },
     "execution_count": 10,
     "metadata": {},
     "output_type": "execute_result"
    }
   ],
   "source": [
    "(5 - 3) // 2"
   ]
  },
  {
   "cell_type": "code",
   "execution_count": 11,
   "id": "6aabf432",
   "metadata": {
    "execution": {
     "iopub.execute_input": "2023-01-29T16:19:45.847580Z",
     "iopub.status.busy": "2023-01-29T16:19:45.847196Z",
     "iopub.status.idle": "2023-01-29T16:19:45.852204Z",
     "shell.execute_reply": "2023-01-29T16:19:45.851069Z"
    },
    "papermill": {
     "duration": 0.016788,
     "end_time": "2023-01-29T16:19:45.854914",
     "exception": false,
     "start_time": "2023-01-29T16:19:45.838126",
     "status": "completed"
    },
    "tags": []
   },
   "outputs": [],
   "source": [
    "#q3.a.hint()"
   ]
  },
  {
   "cell_type": "code",
   "execution_count": 12,
   "id": "94d58393",
   "metadata": {
    "execution": {
     "iopub.execute_input": "2023-01-29T16:19:45.871550Z",
     "iopub.status.busy": "2023-01-29T16:19:45.871144Z",
     "iopub.status.idle": "2023-01-29T16:19:45.880432Z",
     "shell.execute_reply": "2023-01-29T16:19:45.879450Z"
    },
    "papermill": {
     "duration": 0.019799,
     "end_time": "2023-01-29T16:19:45.882360",
     "exception": false,
     "start_time": "2023-01-29T16:19:45.862561",
     "status": "completed"
    },
    "tags": []
   },
   "outputs": [
    {
     "data": {
      "application/javascript": [
       "parent.postMessage({\"jupyterEvent\": \"custom.exercise_interaction\", \"data\": {\"interactionType\": 3, \"questionType\": 4, \"questionId\": \"3.1_ArithmeticParensEasy\", \"learnToolsVersion\": \"0.3.4\", \"valueTowardsCompletion\": 0.0, \"failureMessage\": \"\", \"exceptionClass\": \"\", \"trace\": \"\", \"outcomeType\": 4}}, \"*\")"
      ],
      "text/plain": [
       "<IPython.core.display.Javascript object>"
      ]
     },
     "metadata": {},
     "output_type": "display_data"
    },
    {
     "data": {
      "text/markdown": [
       "<span style=\"color:#33cc99\">Solution:</span> \n",
       "```python\n",
       "(5 - 3) // 2\n",
       "```"
      ],
      "text/plain": [
       "Solution: \n",
       "```python\n",
       "(5 - 3) // 2\n",
       "```"
      ]
     },
     "metadata": {},
     "output_type": "display_data"
    }
   ],
   "source": [
    "# Check your answer (Run this code cell to receive credit!)\n",
    "q3.a.solution()"
   ]
  },
  {
   "cell_type": "markdown",
   "id": "63f7265b",
   "metadata": {
    "papermill": {
     "duration": 0.007895,
     "end_time": "2023-01-29T16:19:45.898254",
     "exception": false,
     "start_time": "2023-01-29T16:19:45.890359",
     "status": "completed"
    },
    "tags": []
   },
   "source": [
    "# 3b.  <span title=\"A bit spicy\" style=\"color: darkgreen \">🌶️</span>\n",
    "\n",
    "<small>Questions, like this one, marked a spicy pepper are a bit harder.</small>\n",
    "\n",
    "Add parentheses to the following expression so that it evaluates to 0."
   ]
  },
  {
   "cell_type": "code",
   "execution_count": 13,
   "id": "714632d2",
   "metadata": {
    "execution": {
     "iopub.execute_input": "2023-01-29T16:19:45.919194Z",
     "iopub.status.busy": "2023-01-29T16:19:45.918704Z",
     "iopub.status.idle": "2023-01-29T16:19:45.926276Z",
     "shell.execute_reply": "2023-01-29T16:19:45.925362Z"
    },
    "papermill": {
     "duration": 0.024383,
     "end_time": "2023-01-29T16:19:45.932175",
     "exception": false,
     "start_time": "2023-01-29T16:19:45.907792",
     "status": "completed"
    },
    "tags": []
   },
   "outputs": [
    {
     "data": {
      "text/plain": [
       "0"
      ]
     },
     "execution_count": 13,
     "metadata": {},
     "output_type": "execute_result"
    }
   ],
   "source": [
    "(8 - 3) * (2 - (1 + 1))"
   ]
  },
  {
   "cell_type": "code",
   "execution_count": 14,
   "id": "6991f02f",
   "metadata": {
    "execution": {
     "iopub.execute_input": "2023-01-29T16:19:45.953672Z",
     "iopub.status.busy": "2023-01-29T16:19:45.953100Z",
     "iopub.status.idle": "2023-01-29T16:19:45.960531Z",
     "shell.execute_reply": "2023-01-29T16:19:45.959469Z"
    },
    "papermill": {
     "duration": 0.02047,
     "end_time": "2023-01-29T16:19:45.962572",
     "exception": false,
     "start_time": "2023-01-29T16:19:45.942102",
     "status": "completed"
    },
    "tags": []
   },
   "outputs": [
    {
     "data": {
      "application/javascript": [
       "parent.postMessage({\"jupyterEvent\": \"custom.exercise_interaction\", \"data\": {\"interactionType\": 2, \"questionType\": 4, \"questionId\": \"3.2_ArithmeticParensHard\", \"learnToolsVersion\": \"0.3.4\", \"valueTowardsCompletion\": 0.0, \"failureMessage\": \"\", \"exceptionClass\": \"\", \"trace\": \"\", \"outcomeType\": 4}}, \"*\")"
      ],
      "text/plain": [
       "<IPython.core.display.Javascript object>"
      ]
     },
     "metadata": {},
     "output_type": "display_data"
    },
    {
     "data": {
      "text/markdown": [
       "<span style=\"color:#3366cc\">Hint:</span> You may need to use several pairs of parentheses."
      ],
      "text/plain": [
       "Hint: You may need to use several pairs of parentheses."
      ]
     },
     "metadata": {},
     "output_type": "display_data"
    }
   ],
   "source": [
    "q3.b.hint()"
   ]
  },
  {
   "cell_type": "code",
   "execution_count": 15,
   "id": "894192a7",
   "metadata": {
    "execution": {
     "iopub.execute_input": "2023-01-29T16:19:45.982806Z",
     "iopub.status.busy": "2023-01-29T16:19:45.981721Z",
     "iopub.status.idle": "2023-01-29T16:19:45.990164Z",
     "shell.execute_reply": "2023-01-29T16:19:45.988921Z"
    },
    "papermill": {
     "duration": 0.019802,
     "end_time": "2023-01-29T16:19:45.992025",
     "exception": false,
     "start_time": "2023-01-29T16:19:45.972223",
     "status": "completed"
    },
    "tags": []
   },
   "outputs": [
    {
     "data": {
      "application/javascript": [
       "parent.postMessage({\"jupyterEvent\": \"custom.exercise_interaction\", \"data\": {\"interactionType\": 3, \"questionType\": 4, \"questionId\": \"3.2_ArithmeticParensHard\", \"learnToolsVersion\": \"0.3.4\", \"valueTowardsCompletion\": 0.0, \"failureMessage\": \"\", \"exceptionClass\": \"\", \"trace\": \"\", \"outcomeType\": 4}}, \"*\")"
      ],
      "text/plain": [
       "<IPython.core.display.Javascript object>"
      ]
     },
     "metadata": {},
     "output_type": "display_data"
    },
    {
     "data": {
      "text/markdown": [
       "<span style=\"color:#33cc99\">Solution:</span> `(8 - 3) * (2 - (1 + 1))` is one solution. There may be others."
      ],
      "text/plain": [
       "Solution: `(8 - 3) * (2 - (1 + 1))` is one solution. There may be others."
      ]
     },
     "metadata": {},
     "output_type": "display_data"
    }
   ],
   "source": [
    "# Check your answer (Run this code cell to receive credit!)\n",
    "q3.b.solution()"
   ]
  },
  {
   "cell_type": "markdown",
   "id": "300f6c20",
   "metadata": {
    "papermill": {
     "duration": 0.00816,
     "end_time": "2023-01-29T16:19:46.008226",
     "exception": false,
     "start_time": "2023-01-29T16:19:46.000066",
     "status": "completed"
    },
    "tags": []
   },
   "source": [
    "<hr/>\n",
    "\n",
    "# 4. \n",
    "Alice, Bob and Carol have agreed to pool their Halloween candy and split it evenly among themselves.\n",
    "For the sake of their friendship, any candies left over will be smashed. For example, if they collectively\n",
    "bring home 91 candies, they'll take 30 each and smash 1.\n",
    "\n",
    "Write an arithmetic expression below to calculate how many candies they must smash for a given haul."
   ]
  },
  {
   "cell_type": "code",
   "execution_count": 16,
   "id": "feeb0ce0",
   "metadata": {
    "execution": {
     "iopub.execute_input": "2023-01-29T16:19:46.029057Z",
     "iopub.status.busy": "2023-01-29T16:19:46.028216Z",
     "iopub.status.idle": "2023-01-29T16:19:46.040767Z",
     "shell.execute_reply": "2023-01-29T16:19:46.038858Z"
    },
    "papermill": {
     "duration": 0.026962,
     "end_time": "2023-01-29T16:19:46.043778",
     "exception": false,
     "start_time": "2023-01-29T16:19:46.016816",
     "status": "completed"
    },
    "tags": []
   },
   "outputs": [
    {
     "data": {
      "application/javascript": [
       "parent.postMessage({\"jupyterEvent\": \"custom.exercise_interaction\", \"data\": {\"outcomeType\": 1, \"valueTowardsCompletion\": 0.25, \"interactionType\": 1, \"questionType\": 1, \"questionId\": \"4_CandySplitting\", \"learnToolsVersion\": \"0.3.4\", \"failureMessage\": \"\", \"exceptionClass\": \"\", \"trace\": \"\"}}, \"*\")"
      ],
      "text/plain": [
       "<IPython.core.display.Javascript object>"
      ]
     },
     "metadata": {},
     "output_type": "display_data"
    },
    {
     "data": {
      "text/markdown": [
       "<span style=\"color:#33cc33\">Correct</span>"
      ],
      "text/plain": [
       "Correct"
      ]
     },
     "metadata": {},
     "output_type": "display_data"
    }
   ],
   "source": [
    "# Variables representing the number of candies collected by alice, bob, and carol\n",
    "alice_candies = 121\n",
    "bob_candies = 77\n",
    "carol_candies = 109\n",
    "\n",
    "# Your code goes here! Replace the right-hand side of this assignment with an expression\n",
    "# involving alice_candies, bob_candies, and carol_candies\n",
    "to_smash = (alice_candies + bob_candies + carol_candies) % 3\n",
    "\n",
    "# Check your answer\n",
    "q4.check()"
   ]
  },
  {
   "cell_type": "code",
   "execution_count": 17,
   "id": "ba3e3b30",
   "metadata": {
    "execution": {
     "iopub.execute_input": "2023-01-29T16:19:46.063630Z",
     "iopub.status.busy": "2023-01-29T16:19:46.063176Z",
     "iopub.status.idle": "2023-01-29T16:19:46.076611Z",
     "shell.execute_reply": "2023-01-29T16:19:46.075296Z"
    },
    "papermill": {
     "duration": 0.0254,
     "end_time": "2023-01-29T16:19:46.078571",
     "exception": false,
     "start_time": "2023-01-29T16:19:46.053171",
     "status": "completed"
    },
    "tags": []
   },
   "outputs": [
    {
     "data": {
      "application/javascript": [
       "parent.postMessage({\"jupyterEvent\": \"custom.exercise_interaction\", \"data\": {\"interactionType\": 2, \"questionType\": 1, \"questionId\": \"4_CandySplitting\", \"learnToolsVersion\": \"0.3.4\", \"valueTowardsCompletion\": 0.0, \"failureMessage\": \"\", \"exceptionClass\": \"\", \"trace\": \"\", \"outcomeType\": 4}}, \"*\")"
      ],
      "text/plain": [
       "<IPython.core.display.Javascript object>"
      ]
     },
     "metadata": {},
     "output_type": "display_data"
    },
    {
     "data": {
      "text/markdown": [
       "<span style=\"color:#3366cc\">Hint 1:</span> You'll probably want to use the modulo operator, `%`.\n",
       "(For another hint, call `.hint(2)`)"
      ],
      "text/plain": [
       "Hint 1: You'll probably want to use the modulo operator, `%`.\n",
       "(For another hint, call `.hint(2)`)"
      ]
     },
     "metadata": {},
     "output_type": "display_data"
    },
    {
     "data": {
      "application/javascript": [
       "parent.postMessage({\"jupyterEvent\": \"custom.exercise_interaction\", \"data\": {\"interactionType\": 3, \"questionType\": 1, \"questionId\": \"4_CandySplitting\", \"learnToolsVersion\": \"0.3.4\", \"valueTowardsCompletion\": 0.0, \"failureMessage\": \"\", \"exceptionClass\": \"\", \"trace\": \"\", \"outcomeType\": 4}}, \"*\")"
      ],
      "text/plain": [
       "<IPython.core.display.Javascript object>"
      ]
     },
     "metadata": {},
     "output_type": "display_data"
    },
    {
     "data": {
      "text/markdown": [
       "<span style=\"color:#33cc99\">Solution:</span> \n",
       "```python\n",
       "(alice_candies + bob_candies + carol_candies) % 3\n",
       "```"
      ],
      "text/plain": [
       "Solution: \n",
       "```python\n",
       "(alice_candies + bob_candies + carol_candies) % 3\n",
       "```"
      ]
     },
     "metadata": {},
     "output_type": "display_data"
    }
   ],
   "source": [
    "q4.hint()\n",
    "q4.solution()"
   ]
  },
  {
   "cell_type": "markdown",
   "id": "f3ff65e5",
   "metadata": {
    "papermill": {
     "duration": 0.008537,
     "end_time": "2023-01-29T16:19:46.096067",
     "exception": false,
     "start_time": "2023-01-29T16:19:46.087530",
     "status": "completed"
    },
    "tags": []
   },
   "source": [
    "# Keep Going\n",
    "\n",
    "Next up, you'll **[learn to write new functions and understand functions others write](https://www.kaggle.com/colinmorris/functions-and-getting-help)**. This will make you at least 10 times more productive as a Python programmer. "
   ]
  },
  {
   "cell_type": "markdown",
   "id": "ac99ad10",
   "metadata": {
    "papermill": {
     "duration": 0.008434,
     "end_time": "2023-01-29T16:19:46.113529",
     "exception": false,
     "start_time": "2023-01-29T16:19:46.105095",
     "status": "completed"
    },
    "tags": []
   },
   "source": [
    "---\n",
    "\n",
    "\n",
    "\n",
    "\n",
    "*Have questions or comments? Visit the [course discussion forum](https://www.kaggle.com/learn/python/discussion) to chat with other learners.*"
   ]
  }
 ],
 "metadata": {
  "kernelspec": {
   "display_name": "Python 3",
   "language": "python",
   "name": "python3"
  },
  "language_info": {
   "codemirror_mode": {
    "name": "ipython",
    "version": 3
   },
   "file_extension": ".py",
   "mimetype": "text/x-python",
   "name": "python",
   "nbconvert_exporter": "python",
   "pygments_lexer": "ipython3",
   "version": "3.7.12"
  },
  "papermill": {
   "default_parameters": {},
   "duration": 10.111152,
   "end_time": "2023-01-29T16:19:46.946328",
   "environment_variables": {},
   "exception": null,
   "input_path": "__notebook__.ipynb",
   "output_path": "__notebook__.ipynb",
   "parameters": {},
   "start_time": "2023-01-29T16:19:36.835176",
   "version": "2.3.4"
  }
 },
 "nbformat": 4,
 "nbformat_minor": 5
}
